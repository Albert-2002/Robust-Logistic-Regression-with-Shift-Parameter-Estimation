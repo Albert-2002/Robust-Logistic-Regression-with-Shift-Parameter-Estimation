{
 "cells": [
  {
   "cell_type": "code",
   "execution_count": 1,
   "metadata": {},
   "outputs": [
    {
     "data": {
      "text/plain": [
       "{'Ionosphere':   Noise Level            L1 Lasso         Elastic Net\n",
       " 0   10% Noise  0.1336 ± 0.0041 SE  0.1328 ± 0.0038 SE\n",
       " 1   20% Noise  0.1483 ± 0.0047 SE  0.1398 ± 0.0043 SE,\n",
       " 'Parkinsons':   Noise Level            L1 Lasso         Elastic Net\n",
       " 0   10% Noise  0.3149 ± 0.0101 SE  0.2980 ± 0.0087 SE\n",
       " 1   20% Noise  0.3339 ± 0.0075 SE  0.3159 ± 0.0088 SE,\n",
       " 'Spambase':   Noise Level            L1 Lasso         Elastic Net\n",
       " 0   10% Noise  0.0879 ± 0.0011 SE  0.0878 ± 0.0011 SE\n",
       " 1   20% Noise  0.0894 ± 0.0010 SE  0.0881 ± 0.0010 SE}"
      ]
     },
     "execution_count": 1,
     "metadata": {},
     "output_type": "execute_result"
    }
   ],
   "source": [
    "import pandas as pd\n",
    "\n",
    "# File paths\n",
    "files = {\n",
    "    \"Ionosphere\": \"C:/Users/91959/Desktop/CODE/Robust-Logistic-Regression-with-Shift-Parameter-Estimation/Experiment_Results/Ionosphere_Results.csv\",\n",
    "    \"Parkinsons\": \"C:/Users/91959/Desktop/CODE/Robust-Logistic-Regression-with-Shift-Parameter-Estimation/Experiment_Results/Parkinsons_Results.csv\",\n",
    "    \"Spambase\": \"C:/Users/91959/Desktop/CODE/Robust-Logistic-Regression-with-Shift-Parameter-Estimation/Experiment_Results/Spambase_Results.csv\",\n",
    "}\n",
    "\n",
    "# Read and inspect the first few rows of each file\n",
    "data_samples = {name: pd.read_csv(path).head() for name, path in files.items()}\n",
    "data_samples\n"
   ]
  },
  {
   "cell_type": "code",
   "execution_count": null,
   "metadata": {},
   "outputs": [],
   "source": []
  },
  {
   "cell_type": "code",
   "execution_count": null,
   "metadata": {},
   "outputs": [],
   "source": []
  },
  {
   "cell_type": "code",
   "execution_count": null,
   "metadata": {},
   "outputs": [],
   "source": []
  },
  {
   "cell_type": "code",
   "execution_count": null,
   "metadata": {},
   "outputs": [],
   "source": []
  }
 ],
 "metadata": {
  "kernelspec": {
   "display_name": "venv",
   "language": "python",
   "name": "python3"
  },
  "language_info": {
   "codemirror_mode": {
    "name": "ipython",
    "version": 3
   },
   "file_extension": ".py",
   "mimetype": "text/x-python",
   "name": "python",
   "nbconvert_exporter": "python",
   "pygments_lexer": "ipython3",
   "version": "3.12.4"
  }
 },
 "nbformat": 4,
 "nbformat_minor": 2
}
